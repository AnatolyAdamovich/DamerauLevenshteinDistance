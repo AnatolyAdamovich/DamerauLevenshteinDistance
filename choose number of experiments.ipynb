{
 "cells": [
  {
   "cell_type": "markdown",
   "id": "69245bdd",
   "metadata": {},
   "source": [
    "# Определение минимального объема выборки (числа экспериментов)\n",
    "\n",
    "Пусть задана надежность $\\gamma = 0.95$. Необходимо найти минимальное число экспериментов, позволяющих построить 95% доверительный интервал для величины $\\overline{f_A}$, где $f_A$ - трудоемкость алгоритма А на входе фиксированной длины"
   ]
  },
  {
   "cell_type": "code",
   "execution_count": 2,
   "id": "90a5ba1f",
   "metadata": {},
   "outputs": [],
   "source": [
    "import numpy as np\n",
    "import random\n",
    "import scipy.integrate as integrate\n",
    "from scipy.stats import beta\n",
    "\n",
    "def Damerau_Levenshtein_metric(str1, str2):\n",
    "    f = 0 # счетчик функции трудоемкости\n",
    "    N, M  = len(str1), len(str2)\n",
    "    \n",
    "    # инициализация матрицы D размером (N+1)x(M+1) сразу с базовым случаем\n",
    "    D = [[i + j if i * j==0 else 0 for j in range(0, M+1)]\n",
    "         for i in range(N + 1)]\n",
    "    \n",
    "    \n",
    "    f += 2 # инициализация i и последнее сравнение\n",
    "    for i in range(1, N+1):\n",
    "        f += 2 # присваивание значения i и его сравнение (i < N+1?)\n",
    "        f += 2 # инициализация j и последнее сравнение \n",
    "        for j in range(1, M+1):\n",
    "            f += 2 # присваивание значения j и его сравнение (j < M+1?)\n",
    "            f += 1 # сравнение элементов строк\n",
    "            if str1[i-1] == str2[j-1]:\n",
    "                f += 1 # присваивание\n",
    "                D[i][j] = D[i-1][j-1] \n",
    "            else:\n",
    "                f += 3 # сравнение в min и присваивание\n",
    "                D[i][j] = 1 + min(D[i-1][j-1], D[i-1][j], D[i][j-1])\n",
    "            \n",
    "            \n",
    "            \n",
    "            f += 2 # сравнение i и j\n",
    "            if (i > 1) and (j > 1):\n",
    "                f += 2 # сравнение двух пар элементов строк\n",
    "                if (str1[i-1] == str2[j-2]) and (str1[i-2] == str2[j-1]):\n",
    "                    f += 2 # сравнение в min и присваивание\n",
    "                    D[i][j] = min(D[i][j], D[i-2][j-2] + 1)\n",
    "    \n",
    "    \n",
    "    return f, D[N][M]\n",
    "\n",
    "# символы, из которых будут составляться слова\n",
    "letters = 'ACGT'\n",
    "\n",
    "def generation_random_strings(len1, len2, seed=None):\n",
    "    if seed is not None:\n",
    "        random.seed(seed)\n",
    "        \n",
    "    random_string_1 = ''.join(random.choice(letters) for i in range(len1))\n",
    "    random_string_2 = ''.join(random.choice(letters) for i in range(len2))\n",
    "    \n",
    "    return random_string_1, random_string_2"
   ]
  },
  {
   "cell_type": "code",
   "execution_count": 3,
   "id": "3acaf56e",
   "metadata": {},
   "outputs": [],
   "source": [
    "N = 60\n",
    "def min_number_of_experiments(k_start=50, sigma=0.95):\n",
    "    k = k_start\n",
    "    # предварительный этап\n",
    "    F = []\n",
    "    for i in range(k):\n",
    "        str1, str2 = generation_random_strings(N, N)\n",
    "        f, res = Damerau_Levenshtein_metric(str1, str2)\n",
    "        F.append(f)\n",
    "    F = np.array(sorted(F))\n",
    "    \n",
    "    # нормировка\n",
    "    f_best_current = F[0]\n",
    "    f_worst_current = F[k-1]\n",
    "    divider = f_worst_current - f_best_current\n",
    "    X = []\n",
    "    for f_i in F:    \n",
    "        x_i = (f_i - f_best_current) / divider\n",
    "        X.append(x_i)\n",
    "    X = np.array(X)\n",
    "    # print(f'f_best = {f_best_current}, f_worst = {f_worst_current}')\n",
    "    \n",
    "    # вычисление выборочной средней и дисперсии\n",
    "    M_emp = np.sum(X) / k\n",
    "    D_emp = np.sum((X - M_emp)**2) / (k - 1)\n",
    "    # print(f'M_emp = {M_emp}, D_emp={D_emp}')\n",
    "    \n",
    "    # определение параметров аппроксимирующего бета-распределения\n",
    "    a = (M_emp / D_emp) * (M_emp - M_emp**2 - D_emp)\n",
    "    b = ((1 - M_emp) / D_emp) * (M_emp - M_emp**2 - D_emp)\n",
    "    # print(f'a={a}, b={b}')\n",
    "    \n",
    "    # длина интервала 2 * fi\n",
    "    fi = round(0.025 * (f_worst_current - f_best_current))\n",
    "    #print(f'fi={fi}')\n",
    "    \n",
    "    # вычисление пределов интегрирования\n",
    "    t1 = (np.mean(F) - f_best_current - fi) / (f_worst_current - f_best_current)\n",
    "    t2 = (np.mean(F) - f_best_current + fi) / (f_worst_current - f_best_current)\n",
    "\n",
    "    # print(f't1={t1}, t2={t2}')\n",
    "    \n",
    "    # решение интегрального уравнения\n",
    "    u = lambda n: a/(a+b) * (n*(a + b + 1) - 1)\n",
    "    v = lambda n: b/(a+b) * (n*(a + b + 1) - 1)\n",
    "    p = 0\n",
    "    n = 10 # минимальный объем выборки\n",
    "    while p < sigma:  \n",
    "        n += 1\n",
    "    \n",
    "        # плотность бета-распределения -> подинтегральная функция\n",
    "        beta_distrub = lambda x: beta.pdf(x, u(n), v(n))\n",
    "        \n",
    "        p, err = integrate.quad(beta_distrub, t1, t2)        \n",
    "\n",
    "    return n"
   ]
  },
  {
   "cell_type": "code",
   "execution_count": 4,
   "id": "430b7250",
   "metadata": {},
   "outputs": [
    {
     "name": "stdout",
     "output_type": "stream",
     "text": [
      "n2 = 169, n1 = 255\n"
     ]
    }
   ],
   "source": [
    "n1 = min_number_of_experiments(k_start=100)\n",
    "n2 = min_number_of_experiments(n1)\n",
    "while n2 >= n1:\n",
    "    n1 = n2\n",
    "    n2 = min_number_of_experiments(n1)\n",
    "print(f'n2 = {n2}, n1 = {n1}')"
   ]
  },
  {
   "cell_type": "markdown",
   "id": "efd15804",
   "metadata": {},
   "source": [
    "## Таким образом, нужное количество экспериментов - 169"
   ]
  }
 ],
 "metadata": {
  "kernelspec": {
   "display_name": "Python 3",
   "language": "python",
   "name": "python3"
  },
  "language_info": {
   "codemirror_mode": {
    "name": "ipython",
    "version": 3
   },
   "file_extension": ".py",
   "mimetype": "text/x-python",
   "name": "python",
   "nbconvert_exporter": "python",
   "pygments_lexer": "ipython3",
   "version": "3.8.8"
  },
  "toc": {
   "base_numbering": 1,
   "nav_menu": {},
   "number_sections": true,
   "sideBar": true,
   "skip_h1_title": false,
   "title_cell": "Table of Contents",
   "title_sidebar": "Contents",
   "toc_cell": false,
   "toc_position": {},
   "toc_section_display": true,
   "toc_window_display": false
  }
 },
 "nbformat": 4,
 "nbformat_minor": 5
}
